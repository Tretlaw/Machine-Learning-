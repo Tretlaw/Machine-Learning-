{
  "nbformat": 4,
  "nbformat_minor": 0,
  "metadata": {
    "colab": {
      "provenance": [],
      "authorship_tag": "ABX9TyNGaNjPNkPLAmp3TaNZT2CX",
      "include_colab_link": true
    },
    "kernelspec": {
      "name": "python3",
      "display_name": "Python 3"
    },
    "language_info": {
      "name": "python"
    }
  },
  "cells": [
    {
      "cell_type": "markdown",
      "metadata": {
        "id": "view-in-github",
        "colab_type": "text"
      },
      "source": [
        "<a href=\"https://colab.research.google.com/github/Tretlaw/Machine-Learning-/blob/main/NumPy.ipynb\" target=\"_parent\"><img src=\"https://colab.research.google.com/assets/colab-badge.svg\" alt=\"Open In Colab\"/></a>"
      ]
    },
    {
      "cell_type": "code",
      "execution_count": null,
      "metadata": {
        "id": "-YK-tQxIyk5p"
      },
      "outputs": [],
      "source": [
        "import numpy as np\n",
        "from numpy import random\n",
        "import matplotlib.pyplot as plt\n",
        "import seaborn as sns\n",
        "import time"
      ]
    },
    {
      "cell_type": "code",
      "source": [
        "npArr1 = np.array([1,2,3,4])\n",
        "npArr1"
      ],
      "metadata": {
        "colab": {
          "base_uri": "https://localhost:8080/"
        },
        "id": "_qVLJEVbyshE",
        "outputId": "7ecdd58a-5cfc-48f4-cd44-6b9f2b7d44d7"
      },
      "execution_count": null,
      "outputs": [
        {
          "output_type": "execute_result",
          "data": {
            "text/plain": [
              "array([1, 2, 3, 4])"
            ]
          },
          "metadata": {},
          "execution_count": 7
        }
      ]
    },
    {
      "cell_type": "code",
      "source": [
        "npArr2 = np.array([[[[1,2,3,4], [1,4,5,7], [5,2,8,9], [8,3,4,1]]]])\n",
        "\n",
        "npArr3 = npArr1 + npArr2\n",
        "\n",
        "npArr3"
      ],
      "metadata": {
        "colab": {
          "base_uri": "https://localhost:8080/"
        },
        "id": "fJrTDNPDzIo9",
        "outputId": "9b0ef972-8df8-4af5-f093-e159e3e2cd51"
      },
      "execution_count": null,
      "outputs": [
        {
          "output_type": "execute_result",
          "data": {
            "text/plain": [
              "array([[[[ 2,  4,  6,  8],\n",
              "         [ 2,  6,  8, 11],\n",
              "         [ 6,  4, 11, 13],\n",
              "         [ 9,  5,  7,  5]]]])"
            ]
          },
          "metadata": {},
          "execution_count": 8
        }
      ]
    },
    {
      "cell_type": "code",
      "source": [
        "# jxArr1 = jnp.array([1,2,3])\n",
        "# jxArr1"
      ],
      "metadata": {
        "colab": {
          "base_uri": "https://localhost:8080/"
        },
        "id": "17ewMGDs0dW-",
        "outputId": "db3a5614-9226-49d0-b50e-384cde48f366"
      },
      "execution_count": null,
      "outputs": [
        {
          "output_type": "stream",
          "name": "stderr",
          "text": [
            "WARNING:jax._src.xla_bridge:No GPU/TPU found, falling back to CPU. (Set TF_CPP_MIN_LOG_LEVEL=0 and rerun for more info.)\n"
          ]
        },
        {
          "output_type": "execute_result",
          "data": {
            "text/plain": [
              "Array([1, 2, 3], dtype=int32)"
            ]
          },
          "metadata": {},
          "execution_count": 6
        }
      ]
    },
    {
      "cell_type": "code",
      "source": [
        "npArrOne = np.random.rand(100, 100)\n",
        "npArrTwo = np.random.rand(100, 100)\n",
        "\n",
        "start = time.time()\n",
        "npArrThree = np.dot(npArrOne, npArrTwo)\n",
        "end = time.time()\n",
        "\n",
        "print(\"NumPy time: \", end - start)"
      ],
      "metadata": {
        "colab": {
          "base_uri": "https://localhost:8080/"
        },
        "id": "LHoyZW282rzY",
        "outputId": "73e10b6c-75cf-4af2-bfec-6a06d9a4d416"
      },
      "execution_count": null,
      "outputs": [
        {
          "output_type": "stream",
          "name": "stdout",
          "text": [
            "NumPy time:  0.007050991058349609\n"
          ]
        }
      ]
    },
    {
      "cell_type": "code",
      "source": [
        "npArr1 = np.array([[1,2,3,4], [1,2,4,6]])\n",
        "npArr2 = np.array([[1,2,3,4], [1,4,5,7]])\n",
        "\n",
        "npArr3 = np.concatenate((npArr1, npArr2), axis=0)\n",
        "npArr3.shape\n",
        "npArr3"
      ],
      "metadata": {
        "colab": {
          "base_uri": "https://localhost:8080/"
        },
        "id": "cXKuiSubDPhU",
        "outputId": "46e4ca19-0826-4757-a765-79d977dff140"
      },
      "execution_count": null,
      "outputs": [
        {
          "output_type": "execute_result",
          "data": {
            "text/plain": [
              "array([[1, 2, 3, 4],\n",
              "       [1, 2, 4, 6],\n",
              "       [1, 2, 3, 4],\n",
              "       [1, 4, 5, 7]])"
            ]
          },
          "metadata": {},
          "execution_count": 12
        }
      ]
    },
    {
      "cell_type": "code",
      "source": [
        "probX = random.choice([2,5,7,0], p=[0.1, 0.3, 0.6, 0.0], size=(50))\n",
        "\n",
        "probX"
      ],
      "metadata": {
        "colab": {
          "base_uri": "https://localhost:8080/"
        },
        "id": "ynDreNSgI1sD",
        "outputId": "c0a595c5-f305-4d50-b91b-b46517f7b131"
      },
      "execution_count": null,
      "outputs": [
        {
          "output_type": "execute_result",
          "data": {
            "text/plain": [
              "array([5, 7, 7, 7, 5, 7, 7, 5, 5, 7, 7, 2, 7, 5, 5, 7, 7, 7, 7, 7, 5, 7,\n",
              "       5, 7, 2, 2, 5, 7, 7, 5, 7, 2, 7, 7, 7, 7, 7, 7, 2, 7, 5, 2, 5, 7,\n",
              "       7, 7, 5, 7, 5, 7])"
            ]
          },
          "metadata": {},
          "execution_count": 25
        }
      ]
    },
    {
      "cell_type": "code",
      "source": [
        "arrOne = np.array([1,2,3,4,5,6,7,8,9,10,11])\n",
        "random.shuffle(arrOne)\n",
        "arrOne"
      ],
      "metadata": {
        "colab": {
          "base_uri": "https://localhost:8080/"
        },
        "id": "oy1SwFdYNMIs",
        "outputId": "2e766df5-59e2-4199-8e6a-61bff692bda1"
      },
      "execution_count": null,
      "outputs": [
        {
          "output_type": "execute_result",
          "data": {
            "text/plain": [
              "array([ 7,  6,  1,  4, 10,  2,  5,  8,  9,  3, 11])"
            ]
          },
          "metadata": {},
          "execution_count": 28
        }
      ]
    },
    {
      "cell_type": "code",
      "source": [
        "parrOne = np.array([1,2,3,4,5,6,7,8,9,10,11])\n",
        "random.permutation(arrOne)\n",
        "parrOne"
      ],
      "metadata": {
        "colab": {
          "base_uri": "https://localhost:8080/"
        },
        "id": "QB97ema0NzYb",
        "outputId": "49496d7d-04ca-4f81-d262-d98dcbd6427a"
      },
      "execution_count": null,
      "outputs": [
        {
          "output_type": "execute_result",
          "data": {
            "text/plain": [
              "array([ 1,  2,  3,  4,  5,  6,  7,  8,  9, 10, 11])"
            ]
          },
          "metadata": {},
          "execution_count": 30
        }
      ]
    },
    {
      "cell_type": "code",
      "source": [
        "sns.distplot([2,5,4,1, 4])\n",
        "\n",
        "plt.show()"
      ],
      "metadata": {
        "colab": {
          "base_uri": "https://localhost:8080/",
          "height": 621
        },
        "id": "-BIq7uwwPSgP",
        "outputId": "3ff49692-fcbf-4b90-d01e-9ee971eb0c85"
      },
      "execution_count": null,
      "outputs": [
        {
          "output_type": "stream",
          "name": "stderr",
          "text": [
            "<ipython-input-35-e5de9fc34fc3>:1: UserWarning: \n",
            "\n",
            "`distplot` is a deprecated function and will be removed in seaborn v0.14.0.\n",
            "\n",
            "Please adapt your code to use either `displot` (a figure-level function with\n",
            "similar flexibility) or `histplot` (an axes-level function for histograms).\n",
            "\n",
            "For a guide to updating your code to use the new functions, please see\n",
            "https://gist.github.com/mwaskom/de44147ed2974457ad6372750bbe5751\n",
            "\n",
            "  sns.distplot([2,5,4,1, 4])\n"
          ]
        },
        {
          "output_type": "display_data",
          "data": {
            "text/plain": [
              "<Figure size 640x480 with 1 Axes>"
            ],
            "image/png": "[encoded data removed]"
          },
          "metadata": {}
        }
      ]
    },
    {
      "cell_type": "code",
      "source": [
        "normX = random.normal(loc=1, scale=2, size=(2,3))\n",
        "normX\n",
        "\n",
        "sns.distplot(normX)\n",
        "\n",
        "plt.show()"
      ],
      "metadata": {
        "colab": {
          "base_uri": "https://localhost:8080/",
          "height": 623
        },
        "id": "NsFzkRvvSX4f",
        "outputId": "0d3b5a93-b754-4899-bb55-6eb008cfd443"
      },
      "execution_count": null,
      "outputs": [
        {
          "output_type": "stream",
          "name": "stderr",
          "text": [
            "<ipython-input-38-8ae86c71ae81>:4: UserWarning: \n",
            "\n",
            "`distplot` is a deprecated function and will be removed in seaborn v0.14.0.\n",
            "\n",
            "Please adapt your code to use either `displot` (a figure-level function with\n",
            "similar flexibility) or `histplot` (an axes-level function for histograms).\n",
            "\n",
            "For a guide to updating your code to use the new functions, please see\n",
            "https://gist.github.com/mwaskom/de44147ed2974457ad6372750bbe5751\n",
            "\n",
            "  sns.distplot(normX)\n"
          ]
        },
        {
          "output_type": "display_data",
          "data": {
            "text/plain": [
              "<Figure size 640x480 with 1 Axes>"
            ],
            "image/png": "[encoded data removed]"
          },
          "metadata": {}
        }
      ]
    },
    {
      "cell_type": "code",
      "source": [
        "normX = random.normal(loc=1, scale=2, size=(2,3))\n",
        "binX = random.binomial(n=8, p=0.5, size=(10))\n",
        "binX\n",
        "\n",
        "sns.distplot(binX, hist=False, label='Binomial')\n",
        "sns.distplot(normX, hist=False, label='Normal')\n",
        "\n",
        "plt.show()"
      ],
      "metadata": {
        "colab": {
          "base_uri": "https://localhost:8080/",
          "height": 817
        },
        "id": "YQ_b0jHvWTiA",
        "outputId": "af9ac573-3214-4c42-d790-25667153b3a3"
      },
      "execution_count": null,
      "outputs": [
        {
          "output_type": "stream",
          "name": "stderr",
          "text": [
            "<ipython-input-40-a695d162aa27>:5: UserWarning: \n",
            "\n",
            "`distplot` is a deprecated function and will be removed in seaborn v0.14.0.\n",
            "\n",
            "Please adapt your code to use either `displot` (a figure-level function with\n",
            "similar flexibility) or `kdeplot` (an axes-level function for kernel density plots).\n",
            "\n",
            "For a guide to updating your code to use the new functions, please see\n",
            "https://gist.github.com/mwaskom/de44147ed2974457ad6372750bbe5751\n",
            "\n",
            "  sns.distplot(binX, hist=False, label='Binomial')\n",
            "<ipython-input-40-a695d162aa27>:6: UserWarning: \n",
            "\n",
            "`distplot` is a deprecated function and will be removed in seaborn v0.14.0.\n",
            "\n",
            "Please adapt your code to use either `displot` (a figure-level function with\n",
            "similar flexibility) or `kdeplot` (an axes-level function for kernel density plots).\n",
            "\n",
            "For a guide to updating your code to use the new functions, please see\n",
            "https://gist.github.com/mwaskom/de44147ed2974457ad6372750bbe5751\n",
            "\n",
            "  sns.distplot(normX, hist=False, label='Normal')\n"
          ]
        },
        {
          "output_type": "display_data",
          "data": {
            "text/plain": [
              "<Figure size 640x480 with 1 Axes>"
            ],
            "image/png": "[encoded data removed]"
          },
          "metadata": {}
        }
      ]
    },
    {
      "cell_type": "code",
      "source": [
        "poiX = random.poisson(lam=1, size=10)\n",
        "poiX\n",
        "\n",
        "sns.distplot(poiX)\n",
        "\n",
        "plt.show()"
      ],
      "metadata": {
        "colab": {
          "base_uri": "https://localhost:8080/",
          "height": 621
        },
        "id": "VsnFE11fYdvr",
        "outputId": "9ee9cb31-19f8-4788-942f-e0e0fd008249"
      },
      "execution_count": null,
      "outputs": [
        {
          "output_type": "stream",
          "name": "stderr",
          "text": [
            "<ipython-input-41-c55ef27075ce>:4: UserWarning: \n",
            "\n",
            "`distplot` is a deprecated function and will be removed in seaborn v0.14.0.\n",
            "\n",
            "Please adapt your code to use either `displot` (a figure-level function with\n",
            "similar flexibility) or `histplot` (an axes-level function for histograms).\n",
            "\n",
            "For a guide to updating your code to use the new functions, please see\n",
            "https://gist.github.com/mwaskom/de44147ed2974457ad6372750bbe5751\n",
            "\n",
            "  sns.distplot(poiX)\n"
          ]
        },
        {
          "output_type": "display_data",
          "data": {
            "text/plain": [
              "<Figure size 640x480 with 1 Axes>"
            ],
            "image/png": "[encoded data removed]"
          },
          "metadata": {}
        }
      ]
    },
    {
      "cell_type": "code",
      "source": [
        "def Add(a,b):\n",
        "  return a + b * a\n",
        "\n",
        "add = np.frompyfunc(Add, 2, 1)\n",
        "\n",
        "add([3,6,9], [4,9,8])"
      ],
      "metadata": {
        "colab": {
          "base_uri": "https://localhost:8080/"
        },
        "id": "02jw-u3Kb7QN",
        "outputId": "900b00ce-960e-4189-ba05-5cb03a3afd9f"
      },
      "execution_count": null,
      "outputs": [
        {
          "output_type": "execute_result",
          "data": {
            "text/plain": [
              "array([15, 60, 81], dtype=object)"
            ]
          },
          "metadata": {},
          "execution_count": 49
        }
      ]
    },
    {
      "cell_type": "code",
      "source": [
        "npArr1 = np.array([[1,2,3,4], [1,2,4,6]])\n",
        "npArr2 = np.array([[1,2,3,4], [1,4,5,7]])\n",
        "\n",
        "powArr = np.power(npArr1, npArr2)\n",
        "powArr"
      ],
      "metadata": {
        "colab": {
          "base_uri": "https://localhost:8080/"
        },
        "id": "Lp953vOZh8_0",
        "outputId": "f2f3fd1f-84ef-49b4-b274-611e2b445f0f"
      },
      "execution_count": null,
      "outputs": [
        {
          "output_type": "execute_result",
          "data": {
            "text/plain": [
              "array([[     1,      4,     27,    256],\n",
              "       [     1,     16,   1024, 279936]])"
            ]
          },
          "metadata": {},
          "execution_count": 57
        }
      ]
    },
    {
      "cell_type": "code",
      "source": [
        "prdtArr = np.multiply(npArr1, npArr2)\n",
        "prdtArr"
      ],
      "metadata": {
        "colab": {
          "base_uri": "https://localhost:8080/"
        },
        "id": "s4rak2Xki-iA",
        "outputId": "5a4e7c74-e2de-4ef4-e38a-223867fb5555"
      },
      "execution_count": null,
      "outputs": [
        {
          "output_type": "execute_result",
          "data": {
            "text/plain": [
              "array([[     1,      4,     27,    256],\n",
              "       [     1,     16,   1024, 279936]])"
            ]
          },
          "metadata": {},
          "execution_count": 58
        }
      ]
    },
    {
      "cell_type": "code",
      "source": [
        "diffArr = np.subtract(npArr1, npArr2)\n",
        "diffArr"
      ],
      "metadata": {
        "colab": {
          "base_uri": "https://localhost:8080/"
        },
        "id": "pE7ZY7_5jTgm",
        "outputId": "f8edcc19-4385-4cf1-e2dc-7cab6d03f91a"
      },
      "execution_count": null,
      "outputs": [
        {
          "output_type": "execute_result",
          "data": {
            "text/plain": [
              "array([[ 0,  0,  0,  0],\n",
              "       [ 0, -2, -1, -1]])"
            ]
          },
          "metadata": {},
          "execution_count": 59
        }
      ]
    },
    {
      "cell_type": "code",
      "source": [
        "b = np.log(9.567564)\n",
        "b"
      ],
      "metadata": {
        "colab": {
          "base_uri": "https://localhost:8080/"
        },
        "id": "QTAtIexijoSw",
        "outputId": "2c77ad78-0a77-493f-cf0d-67d3fc2bedd6"
      },
      "execution_count": null,
      "outputs": [
        {
          "output_type": "execute_result",
          "data": {
            "text/plain": [
              "2.2583786276081246"
            ]
          },
          "metadata": {},
          "execution_count": 78
        }
      ]
    },
    {
      "cell_type": "code",
      "source": [
        "from math import log\n",
        "\n",
        "anyLog = np.frompyfunc(log, 2 ,1)\n",
        "\n",
        "anyLog(25, 5)"
      ],
      "metadata": {
        "colab": {
          "base_uri": "https://localhost:8080/"
        },
        "id": "oihjP6bqmxUT",
        "outputId": "2b85bc07-8885-4a58-b6d1-2fee8508d5a8"
      },
      "execution_count": null,
      "outputs": [
        {
          "output_type": "execute_result",
          "data": {
            "text/plain": [
              "2.0"
            ]
          },
          "metadata": {},
          "execution_count": 80
        }
      ]
    },
    {
      "cell_type": "code",
      "source": [
        "sinAr1 = np.array([1,2,3,4,5])\n",
        "valArr = np.sin(sinAr1)\n",
        "valArrRad = np.deg2rad(valArr)\n",
        "valArrRad"
      ],
      "metadata": {
        "colab": {
          "base_uri": "https://localhost:8080/"
        },
        "id": "fCdpsxgBoi3c",
        "outputId": "3d928b2f-9f1e-4508-ecc9-5d8bd46c9dc6"
      },
      "execution_count": null,
      "outputs": [
        {
          "output_type": "execute_result",
          "data": {
            "text/plain": [
              "array([ 0.01468644,  0.01587023,  0.00246301, -0.0132087 , -0.01673639])"
            ]
          },
          "metadata": {},
          "execution_count": 93
        }
      ]
    },
    {
      "cell_type": "code",
      "source": [
        "ang = np.arccos(-1)\n",
        "ang"
      ],
      "metadata": {
        "colab": {
          "base_uri": "https://localhost:8080/"
        },
        "id": "KU4O1xRxsJI_",
        "outputId": "2f4d77d4-d00a-4c3c-c4ba-6e7154410888"
      },
      "execution_count": null,
      "outputs": [
        {
          "output_type": "execute_result",
          "data": {
            "text/plain": [
              "3.141592653589793"
            ]
          },
          "metadata": {},
          "execution_count": 94
        }
      ]
    },
    {
      "cell_type": "code",
      "source": [
        "setArr = np.array([1,2,3,4,3,6,-1,1,9])\n",
        "\n",
        "setX = np.unique(setArr)\n",
        "setX"
      ],
      "metadata": {
        "colab": {
          "base_uri": "https://localhost:8080/"
        },
        "id": "b6BwjoxXsQbq",
        "outputId": "6ad4275f-ef68-41da-912c-1ec5e48d6d27"
      },
      "execution_count": null,
      "outputs": [
        {
          "output_type": "execute_result",
          "data": {
            "text/plain": [
              "array([-1,  1,  2,  3,  4,  6,  9])"
            ]
          },
          "metadata": {},
          "execution_count": 95
        }
      ]
    },
    {
      "cell_type": "code",
      "source": [
        "setArr1 = np.array([1,2,3,4,3,6,-1,1,9])\n",
        "setArr2 = np.array([1,-2,5,4,3,6,-1,1,9])\n",
        "\n",
        "setUnion = np.union1d(setArr1, setArr2)\n",
        "setUnion"
      ],
      "metadata": {
        "colab": {
          "base_uri": "https://localhost:8080/"
        },
        "id": "mLl7l66Osv2L",
        "outputId": "b58d2410-c2f8-4bbf-9176-6b40901ce9dd"
      },
      "execution_count": null,
      "outputs": [
        {
          "output_type": "execute_result",
          "data": {
            "text/plain": [
              "array([-2, -1,  1,  2,  3,  4,  5,  6,  9])"
            ]
          },
          "metadata": {},
          "execution_count": 96
        }
      ]
    },
    {
      "cell_type": "code",
      "source": [
        "setArr1 = np.array([1,2,3,4,3,6,-1,1,9])\n",
        "setArr2 = np.array([1,-2,5,4,3,6,-1,1,9])\n",
        "\n",
        "setIntersection = np.intersect1d(setArr1, setArr2, assume_unique=False)\n",
        "setIntersection"
      ],
      "metadata": {
        "colab": {
          "base_uri": "https://localhost:8080/"
        },
        "id": "u9u4G3mZtUKV",
        "outputId": "e6cc7e3d-d545-43f1-dcf2-de5e7941b60b"
      },
      "execution_count": null,
      "outputs": [
        {
          "output_type": "execute_result",
          "data": {
            "text/plain": [
              "array([-1,  1,  3,  4,  6,  9])"
            ]
          },
          "metadata": {},
          "execution_count": 102
        }
      ]
    },
    {
      "cell_type": "code",
      "source": [],
      "metadata": {
        "id": "jaNUkXjNQ65s"
      },
      "execution_count": null,
      "outputs": []
    },
    {
      "cell_type": "code",
      "source": [
        "setArr1 = np.array([1,2,3,4,3,6,-1,1,9])\n",
        "setArr2 = np.array([1,-2,5,4,3,6,-1,1,9])\n",
        "\n",
        "diffArr = np.setdiff1d(setArr1, setArr2, assume_unique=True)\n",
        "diffArr"
      ],
      "metadata": {
        "colab": {
          "base_uri": "https://localhost:8080/"
        },
        "id": "oNCcd4HquD4F",
        "outputId": "c6f1a7b3-f4ee-46fd-dfb3-ac88f1d8b293"
      },
      "execution_count": null,
      "outputs": [
        {
          "output_type": "execute_result",
          "data": {
            "text/plain": [
              "array([2])"
            ]
          },
          "metadata": {},
          "execution_count": 104
        }
      ]
    }
  ]
}