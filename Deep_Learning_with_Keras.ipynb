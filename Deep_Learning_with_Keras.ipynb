{
  "nbformat": 4,
  "nbformat_minor": 0,
  "metadata": {
    "colab": {
      "provenance": [],
      "include_colab_link": true
    },
    "kernelspec": {
      "name": "python3",
      "display_name": "Python 3"
    },
    "language_info": {
      "name": "python"
    }
  },
  "cells": [
    {
      "cell_type": "markdown",
      "metadata": {
        "id": "view-in-github",
        "colab_type": "text"
      },
      "source": [
        "<a href=\"https://colab.research.google.com/github/Tretlaw/Machine-Learning-/blob/main/Deep_Learning_with_Keras.ipynb\" target=\"_parent\"><img src=\"https://colab.research.google.com/assets/colab-badge.svg\" alt=\"Open In Colab\"/></a>"
      ]
    },
    {
      "cell_type": "code",
      "execution_count": 4,
      "metadata": {
        "id": "38ZlPovDGhYp"
      },
      "outputs": [],
      "source": [
        "import pandas as pd\n",
        "import numpy as np\n",
        "import matplotlib.pyplot as plt\n",
        "import tensorflow as tf\n",
        "import random\n",
        "\n",
        "#MNIST Dataset\n",
        "from tensorflow.keras.datasets import mnist\n",
        "\n",
        "#Model\n",
        "from tensorflow.keras.models import Sequential\n",
        "\n",
        "#Layers\n",
        "from tensorflow.keras.layers import Conv2D, MaxPooling2D, Flatten, Dense, Dropout\n",
        "\n",
        "from tensorflow.keras.utils import to_categorical\n"
      ]
    },
    {
      "cell_type": "code",
      "source": [
        "#Load data\n",
        " (x_train, y_train), (x_test, y_test) = mnist.load_data()"
      ],
      "metadata": {
        "id": "mpdHs9NkTBew"
      },
      "execution_count": 5,
      "outputs": []
    },
    {
      "cell_type": "markdown",
      "source": [
        "# Preprocess data"
      ],
      "metadata": {
        "id": "Ywyy2XSWTXvp"
      }
    },
    {
      "cell_type": "code",
      "source": [
        "#Normalize the pixel values\n",
        "x_train = x_train.astype('float32') / 255.0\n",
        "x_test = x_test.astype('float32') / 255.0\n",
        "\n",
        "#OneHotEncoder\n",
        "y_train = to_categorical(y_train, 10)\n",
        "y_test = to_categorical(y_test, 10)\n",
        "\n",
        "#Add Channel dimension for Conv2D\n",
        "x_train = np.expand_dims(x_train, axis=-1)\n",
        "x_test = np.expand_dims(x_test, axis=-1)\n",
        "\n"
      ],
      "metadata": {
        "id": "UHHNQvImTiBb"
      },
      "execution_count": 6,
      "outputs": []
    },
    {
      "cell_type": "markdown",
      "source": [
        "# **Building the Neural networks**"
      ],
      "metadata": {
        "id": "h9Uf5LdNVNfx"
      }
    },
    {
      "cell_type": "code",
      "source": [
        "model = Sequential()\n",
        "\n",
        "#layer 1\n",
        "model.add(Conv2D(32, (3, 3), activation='relu', input_shape=(28, 28, 1)))\n",
        "model.add(MaxPooling2D(2,2))\n",
        "\n",
        "#Layer 2\n",
        "model.add(Conv2D(64, (3, 3), activation='relu'))\n",
        "model.add(MaxPooling2D(2,2))\n",
        "\n",
        "#layer 3\n",
        "model.add(Conv2D(128, (3, 3), activation='relu'))\n",
        "model.add(MaxPooling2D(2,2))\n",
        "\n",
        "#layer 4\n",
        "model.add(Flatten())\n",
        "model.add(Dense(128, activation='relu'))\n",
        "\n",
        "#layer 5\n",
        "model.add(Dropout(0.5))\n",
        "model.add(Dense(10, activation='softmax'))"
      ],
      "metadata": {
        "id": "EIy79FQgVllG"
      },
      "execution_count": 7,
      "outputs": []
    },
    {
      "cell_type": "markdown",
      "source": [
        "# Compile the model"
      ],
      "metadata": {
        "id": "TIdraT8jY1Z7"
      }
    },
    {
      "cell_type": "code",
      "source": [
        "model.compile(loss='categorical_crossentropy', optimizer='adam', metrics=['accuracy'])"
      ],
      "metadata": {
        "id": "rqccrvFIY3xh"
      },
      "execution_count": 8,
      "outputs": []
    },
    {
      "cell_type": "markdown",
      "source": [
        "# Train the model"
      ],
      "metadata": {
        "id": "W6zfjHkUZdN9"
      }
    },
    {
      "cell_type": "code",
      "source": [
        "# epochs = 20\n",
        "# batch_size =  128\n",
        "\n",
        "#Train model\n",
        "model.fit(x_train, y_train, epochs=20, batch_size=128, validation_split=0.1)"
      ],
      "metadata": {
        "colab": {
          "base_uri": "https://localhost:8080/"
        },
        "id": "sEAtK9TCZf2L",
        "outputId": "28779489-01c9-4484-b1f0-f3bea6ca3456"
      },
      "execution_count": 9,
      "outputs": [
        {
          "output_type": "stream",
          "name": "stdout",
          "text": [
            "Epoch 1/20\n",
            "422/422 [==============================] - 32s 72ms/step - loss: 0.4191 - accuracy: 0.8692 - val_loss: 0.0879 - val_accuracy: 0.9750\n",
            "Epoch 2/20\n",
            "422/422 [==============================] - 30s 70ms/step - loss: 0.1319 - accuracy: 0.9620 - val_loss: 0.0699 - val_accuracy: 0.9770\n",
            "Epoch 3/20\n",
            "422/422 [==============================] - 30s 72ms/step - loss: 0.0931 - accuracy: 0.9728 - val_loss: 0.0510 - val_accuracy: 0.9850\n",
            "Epoch 4/20\n",
            "422/422 [==============================] - 28s 67ms/step - loss: 0.0757 - accuracy: 0.9773 - val_loss: 0.0529 - val_accuracy: 0.9833\n",
            "Epoch 5/20\n",
            "422/422 [==============================] - 29s 69ms/step - loss: 0.0606 - accuracy: 0.9822 - val_loss: 0.0406 - val_accuracy: 0.9878\n",
            "Epoch 6/20\n",
            "422/422 [==============================] - 29s 68ms/step - loss: 0.0535 - accuracy: 0.9843 - val_loss: 0.0398 - val_accuracy: 0.9890\n",
            "Epoch 7/20\n",
            "422/422 [==============================] - 30s 70ms/step - loss: 0.0457 - accuracy: 0.9864 - val_loss: 0.0344 - val_accuracy: 0.9913\n",
            "Epoch 8/20\n",
            "422/422 [==============================] - 29s 70ms/step - loss: 0.0418 - accuracy: 0.9872 - val_loss: 0.0325 - val_accuracy: 0.9903\n",
            "Epoch 9/20\n",
            "422/422 [==============================] - 29s 70ms/step - loss: 0.0352 - accuracy: 0.9889 - val_loss: 0.0363 - val_accuracy: 0.9907\n",
            "Epoch 10/20\n",
            "422/422 [==============================] - 29s 69ms/step - loss: 0.0306 - accuracy: 0.9908 - val_loss: 0.0333 - val_accuracy: 0.9908\n",
            "Epoch 11/20\n",
            "422/422 [==============================] - 28s 67ms/step - loss: 0.0270 - accuracy: 0.9917 - val_loss: 0.0328 - val_accuracy: 0.9912\n",
            "Epoch 12/20\n",
            "422/422 [==============================] - 29s 69ms/step - loss: 0.0218 - accuracy: 0.9931 - val_loss: 0.0382 - val_accuracy: 0.9897\n",
            "Epoch 13/20\n",
            "422/422 [==============================] - 29s 68ms/step - loss: 0.0235 - accuracy: 0.9924 - val_loss: 0.0398 - val_accuracy: 0.9902\n",
            "Epoch 14/20\n",
            "422/422 [==============================] - 29s 70ms/step - loss: 0.0193 - accuracy: 0.9941 - val_loss: 0.0353 - val_accuracy: 0.9908\n",
            "Epoch 15/20\n",
            "422/422 [==============================] - 28s 67ms/step - loss: 0.0187 - accuracy: 0.9944 - val_loss: 0.0407 - val_accuracy: 0.9895\n",
            "Epoch 16/20\n",
            "422/422 [==============================] - 28s 67ms/step - loss: 0.0167 - accuracy: 0.9946 - val_loss: 0.0330 - val_accuracy: 0.9913\n",
            "Epoch 17/20\n",
            "422/422 [==============================] - 29s 69ms/step - loss: 0.0148 - accuracy: 0.9955 - val_loss: 0.0417 - val_accuracy: 0.9900\n",
            "Epoch 18/20\n",
            "422/422 [==============================] - 30s 70ms/step - loss: 0.0141 - accuracy: 0.9956 - val_loss: 0.0440 - val_accuracy: 0.9910\n",
            "Epoch 19/20\n",
            "422/422 [==============================] - 31s 74ms/step - loss: 0.0128 - accuracy: 0.9958 - val_loss: 0.0419 - val_accuracy: 0.9892\n",
            "Epoch 20/20\n",
            "422/422 [==============================] - 30s 71ms/step - loss: 0.0112 - accuracy: 0.9966 - val_loss: 0.0354 - val_accuracy: 0.9918\n"
          ]
        },
        {
          "output_type": "execute_result",
          "data": {
            "text/plain": [
              "<keras.src.callbacks.History at 0x7d9c886f2860>"
            ]
          },
          "metadata": {},
          "execution_count": 9
        }
      ]
    },
    {
      "cell_type": "markdown",
      "source": [
        "# Evaluate the Model"
      ],
      "metadata": {
        "id": "C_bL8gl4eDdA"
      }
    },
    {
      "cell_type": "code",
      "source": [
        "loss, accuracy = model.evaluate(x_test, y_test)\n",
        "print(f'Test LOss: {loss: .4f}, Test accuracy: {accuracy: .4f}')"
      ],
      "metadata": {
        "colab": {
          "base_uri": "https://localhost:8080/"
        },
        "id": "uGoszA9Od-wr",
        "outputId": "6b2bb349-6bec-4e8b-ca78-9823f2f18b35"
      },
      "execution_count": 10,
      "outputs": [
        {
          "output_type": "stream",
          "name": "stdout",
          "text": [
            "313/313 [==============================] - 2s 6ms/step - loss: 0.0516 - accuracy: 0.9894\n",
            "Test LOss:  0.0516, Test accuracy:  0.9894\n"
          ]
        }
      ]
    },
    {
      "cell_type": "markdown",
      "source": [
        "# Make Predictions"
      ],
      "metadata": {
        "id": "G71J5BsigXNo"
      }
    },
    {
      "cell_type": "code",
      "source": [
        "predictions = model.predict(x_test[:8])\n",
        "predicted_labels = np.argmax(predictions, axis=1)\n",
        "\n",
        "print('Predicted Label: ', predicted_labels)\n",
        "print('True Label: ', y_test[:8])"
      ],
      "metadata": {
        "colab": {
          "base_uri": "https://localhost:8080/"
        },
        "id": "zFK7dOW_gagC",
        "outputId": "e819b338-f66c-4f93-ba79-a892f81b7d62"
      },
      "execution_count": 12,
      "outputs": [
        {
          "output_type": "stream",
          "name": "stdout",
          "text": [
            "1/1 [==============================] - 0s 22ms/step\n",
            "Predicted Label:  [7 2 1 0 4 1 4 9]\n",
            "True Label:  [[0. 0. 0. 0. 0. 0. 0. 1. 0. 0.]\n",
            " [0. 0. 1. 0. 0. 0. 0. 0. 0. 0.]\n",
            " [0. 1. 0. 0. 0. 0. 0. 0. 0. 0.]\n",
            " [1. 0. 0. 0. 0. 0. 0. 0. 0. 0.]\n",
            " [0. 0. 0. 0. 1. 0. 0. 0. 0. 0.]\n",
            " [0. 1. 0. 0. 0. 0. 0. 0. 0. 0.]\n",
            " [0. 0. 0. 0. 1. 0. 0. 0. 0. 0.]\n",
            " [0. 0. 0. 0. 0. 0. 0. 0. 0. 1.]]\n"
          ]
        }
      ]
    }
  ]
}