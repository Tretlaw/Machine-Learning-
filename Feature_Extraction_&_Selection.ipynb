{
  "cells": [
    {
      "cell_type": "markdown",
      "metadata": {
        "id": "view-in-github",
        "colab_type": "text"
      },
      "source": [
        "<a href=\"https://colab.research.google.com/github/Tretlaw/Machine-Learning-/blob/main/Feature_Extraction_%26_Selection.ipynb\" target=\"_parent\"><img src=\"https://colab.research.google.com/assets/colab-badge.svg\" alt=\"Open In Colab\"/></a>"
      ]
    },
    {
      "cell_type": "code",
      "execution_count": 44,
      "metadata": {
        "id": "gyGY3dsuE3Dz"
      },
      "outputs": [],
      "source": [
        "import pandas as pd\n",
        "import numpy as np\n",
        "\n",
        "from sklearn.preprocessing import MinMaxScaler\n"
      ]
    },
    {
      "cell_type": "code",
      "source": [
        "dataX = [[20, 0.3], [30, 0.2], [10, 0.9], ]\n",
        "scaler = MinMaxScaler()\n",
        "\n",
        "scaled_data = scaler.fit_transform(dataX)\n",
        "\n",
        "scaled_data"
      ],
      "metadata": {
        "colab": {
          "base_uri": "https://localhost:8080/"
        },
        "id": "lMhGASvPkCrM",
        "outputId": "cfc42416-79fe-40eb-9b19-7bb17229a57e"
      },
      "execution_count": 45,
      "outputs": [
        {
          "output_type": "execute_result",
          "data": {
            "text/plain": [
              "array([[0.5       , 0.14285714],\n",
              "       [1.        , 0.        ],\n",
              "       [0.        , 1.        ]])"
            ]
          },
          "metadata": {},
          "execution_count": 45
        }
      ]
    },
    {
      "cell_type": "code",
      "source": [
        "bins = np.linspace(1, 6, 4)\n",
        "\n",
        "bined_data = np.digitize(dataX, bins )\n",
        "\n",
        "bined_data"
      ],
      "metadata": {
        "colab": {
          "base_uri": "https://localhost:8080/"
        },
        "id": "ZTT2XpTjlknl",
        "outputId": "b4147d53-5002-4652-c88a-f264e0399a1a"
      },
      "execution_count": 46,
      "outputs": [
        {
          "output_type": "execute_result",
          "data": {
            "text/plain": [
              "array([[4, 0],\n",
              "       [4, 0],\n",
              "       [4, 0]])"
            ]
          },
          "metadata": {},
          "execution_count": 46
        }
      ]
    },
    {
      "cell_type": "code",
      "source": [
        "from sklearn.preprocessing import PolynomialFeatures\n",
        "\n",
        "\n",
        "dataY = [[2, 3], [2, 5], [1, 4], [5, 3]]\n",
        "# puts data in form of a non linear equation.. according to the degree given (i.e degree=2, X**2 + 2X + 1 )\n",
        "poly = PolynomialFeatures(degree=3)\n",
        "\n",
        "poly_data = poly.fit_transform(dataY)\n",
        "poly_data"
      ],
      "metadata": {
        "colab": {
          "base_uri": "https://localhost:8080/"
        },
        "id": "ywbxWKk_nOeB",
        "outputId": "58e6552a-aaf0-4b7a-c326-f4fa085f4819"
      },
      "execution_count": 47,
      "outputs": [
        {
          "output_type": "execute_result",
          "data": {
            "text/plain": [
              "array([[  1.,   2.,   3.,   4.,   6.,   9.,   8.,  12.,  18.,  27.],\n",
              "       [  1.,   2.,   5.,   4.,  10.,  25.,   8.,  20.,  50., 125.],\n",
              "       [  1.,   1.,   4.,   1.,   4.,  16.,   1.,   4.,  16.,  64.],\n",
              "       [  1.,   5.,   3.,  25.,  15.,   9., 125.,  75.,  45.,  27.]])"
            ]
          },
          "metadata": {},
          "execution_count": 47
        }
      ]
    },
    {
      "cell_type": "code",
      "source": [
        "from sklearn.preprocessing import OneHotEncoder\n",
        "#OneHotEncoder assigns each categorical value a binary digit\n",
        "\n",
        "colorData = [['Red'], ['Green'], ['Blue'], ['Violet']]\n",
        "\n",
        "encoder = OneHotEncoder()\n",
        "\n",
        "onehot_data = encoder.fit_transform(colorData).toarray()\n",
        "\n",
        "onehot_data"
      ],
      "metadata": {
        "colab": {
          "base_uri": "https://localhost:8080/"
        },
        "id": "Eq6qN-_YqgAY",
        "outputId": "544b6682-56c7-4816-b3c3-4b6c3aad3c5b"
      },
      "execution_count": 48,
      "outputs": [
        {
          "output_type": "execute_result",
          "data": {
            "text/plain": [
              "array([[0., 0., 1., 0.],\n",
              "       [0., 1., 0., 0.],\n",
              "       [1., 0., 0., 0.],\n",
              "       [0., 0., 0., 1.]])"
            ]
          },
          "metadata": {},
          "execution_count": 48
        }
      ]
    },
    {
      "cell_type": "code",
      "source": [
        "from sklearn.preprocessing import LabelEncoder\n",
        "#LabelEncoder assigns each categorical value a number\n",
        "\n",
        "labelData = ['Low', 'High', 'Medium', 'High', 'Low']\n",
        "\n",
        "encoder = LabelEncoder()\n",
        "\n",
        "labeled_data = encoder.fit_transform(labelData)\n",
        "\n",
        "labeled_data"
      ],
      "metadata": {
        "colab": {
          "base_uri": "https://localhost:8080/"
        },
        "id": "VSXbnTmwvfs-",
        "outputId": "4bcd80df-31f8-46d2-d3e3-1f454442eb86"
      },
      "execution_count": 49,
      "outputs": [
        {
          "output_type": "execute_result",
          "data": {
            "text/plain": [
              "array([1, 0, 2, 0, 1])"
            ]
          },
          "metadata": {},
          "execution_count": 49
        }
      ]
    },
    {
      "cell_type": "code",
      "source": [
        "# Frequency encoding replaces the categorical data with the frequency in the data set\n",
        "dataSeries = pd.Series(['Mark', 'Walter', 'Paul', 'Keith', 'Mark', 'Martha', 'Keith', 'Mark'])\n",
        "\n",
        "frequency = dataSeries.value_counts(normalize=True)\n",
        "\n",
        "encodeSeries = dataSeries.map(frequency)\n",
        "\n",
        "encodeSeries\n"
      ],
      "metadata": {
        "colab": {
          "base_uri": "https://localhost:8080/"
        },
        "id": "CO_-dHfPyJLL",
        "outputId": "24518ec7-b4e7-4e92-92cf-60b82d32da36"
      },
      "execution_count": 50,
      "outputs": [
        {
          "output_type": "execute_result",
          "data": {
            "text/plain": [
              "0    0.375\n",
              "1    0.125\n",
              "2    0.125\n",
              "3    0.250\n",
              "4    0.375\n",
              "5    0.125\n",
              "6    0.250\n",
              "7    0.375\n",
              "dtype: float64"
            ]
          },
          "metadata": {},
          "execution_count": 50
        }
      ]
    },
    {
      "cell_type": "code",
      "source": [
        "#CountVectorizer counts the number if occurences of a word in the data\n",
        "from sklearn.feature_extraction.text import CountVectorizer\n",
        "\n",
        "textData = ['How are you', 'Are you okay', 'That is okay', 'I am okay', 'How are you doing']\n",
        "\n",
        "vector = CountVectorizer()\n",
        "\n",
        "textExtract = vector.fit_transform(textData)\n",
        "\n",
        "text = textExtract.todense()\n",
        "\n",
        "text"
      ],
      "metadata": {
        "colab": {
          "base_uri": "https://localhost:8080/"
        },
        "id": "ImtYimsX1T1Z",
        "outputId": "b1dd7533-9f2c-49db-a6cd-07a80c0a7de5"
      },
      "execution_count": 51,
      "outputs": [
        {
          "output_type": "execute_result",
          "data": {
            "text/plain": [
              "matrix([[0, 1, 0, 1, 0, 0, 0, 1],\n",
              "        [0, 1, 0, 0, 0, 1, 0, 1],\n",
              "        [0, 0, 0, 0, 1, 1, 1, 0],\n",
              "        [1, 0, 0, 0, 0, 1, 0, 0],\n",
              "        [0, 1, 1, 1, 0, 0, 0, 1]])"
            ]
          },
          "metadata": {},
          "execution_count": 51
        }
      ]
    },
    {
      "cell_type": "code",
      "source": [
        "#TfidfVectorizer counts the number if occurences of a word in the data and forms a matrix according to the rarity of the word\n",
        "from sklearn.feature_extraction.text import TfidfVectorizer\n",
        "\n",
        "textData2 = ['How are you', 'Are you okay', 'That is okay', 'I am okay', 'How are you doing']\n",
        "\n",
        "vector2 = TfidfVectorizer()\n",
        "\n",
        "textExtract2 = vector2.fit_transform(textData2)\n",
        "\n",
        "text2 = textExtract2.todense()\n",
        "\n",
        "text2"
      ],
      "metadata": {
        "colab": {
          "base_uri": "https://localhost:8080/"
        },
        "id": "v2EaM0gp6USK",
        "outputId": "45063c91-c55a-4b1e-99a6-83930d51d701"
      },
      "execution_count": 52,
      "outputs": [
        {
          "output_type": "execute_result",
          "data": {
            "text/plain": [
              "matrix([[0.        , 0.53828256, 0.        , 0.64846263, 0.        ,\n",
              "         0.        , 0.        , 0.53828256],\n",
              "        [0.        , 0.57735027, 0.        , 0.        , 0.        ,\n",
              "         0.57735027, 0.        , 0.57735027],\n",
              "        [0.        , 0.        , 0.        , 0.        , 0.63907044,\n",
              "         0.42799292, 0.63907044, 0.        ],\n",
              "        [0.83088075, 0.        , 0.        , 0.        , 0.        ,\n",
              "         0.55645052, 0.        , 0.        ],\n",
              "        [0.        , 0.41955892, 0.62647696, 0.50543767, 0.        ,\n",
              "         0.        , 0.        , 0.41955892]])"
            ]
          },
          "metadata": {},
          "execution_count": 52
        }
      ]
    },
    {
      "cell_type": "code",
      "source": [
        "import gensim\n",
        "from gensim.models import Word2Vec\n",
        "\n",
        "textData2 = [['How', 'are', 'you'], ['Are', 'you', 'okay'], ['That', 'is', 'okay'], ['How', 'are', 'you', 'doing']]\n",
        "\n",
        "model = Word2Vec(textData2, min_count=1)\n",
        "\n",
        "wordVec = model.wv['is']\n",
        "\n",
        "wordVec"
      ],
      "metadata": {
        "colab": {
          "base_uri": "https://localhost:8080/"
        },
        "id": "k0VPgnBp-dxH",
        "outputId": "ada6886f-bc05-473f-f8e6-2ab68f01ea52"
      },
      "execution_count": 53,
      "outputs": [
        {
          "output_type": "execute_result",
          "data": {
            "text/plain": [
              "array([-8.7274825e-03,  2.1301615e-03, -8.7354420e-04, -9.3190884e-03,\n",
              "       -9.4281426e-03, -1.4107180e-03,  4.4324086e-03,  3.7040710e-03,\n",
              "       -6.4986930e-03, -6.8730675e-03, -4.9994122e-03, -2.2868442e-03,\n",
              "       -7.2502876e-03, -9.6033178e-03, -2.7436293e-03, -8.3628409e-03,\n",
              "       -6.0388758e-03, -5.6709289e-03, -2.3441375e-03, -1.7069972e-03,\n",
              "       -8.9569986e-03, -7.3519943e-04,  8.1525063e-03,  7.6904297e-03,\n",
              "       -7.2061159e-03, -3.6668312e-03,  3.1185520e-03, -9.5707225e-03,\n",
              "        1.4764392e-03,  6.5244664e-03,  5.7464195e-03, -8.7630618e-03,\n",
              "       -4.5171441e-03, -8.1401607e-03,  4.5956374e-05,  9.2636338e-03,\n",
              "        5.9733056e-03,  5.0673080e-03,  5.0610625e-03, -3.2429171e-03,\n",
              "        9.5521836e-03, -7.3564244e-03, -7.2703874e-03, -2.2653891e-03,\n",
              "       -7.7856064e-04, -3.2161034e-03, -5.9258583e-04,  7.4888230e-03,\n",
              "       -6.9751858e-04, -1.6249407e-03,  2.7443992e-03, -8.3591007e-03,\n",
              "        7.8558037e-03,  8.5361041e-03, -9.5840869e-03,  2.4462664e-03,\n",
              "        9.9049713e-03, -7.6658037e-03, -6.9669187e-03, -7.7365171e-03,\n",
              "        8.3959233e-03, -6.8133592e-04,  9.1444086e-03, -8.1582209e-03,\n",
              "        3.7430846e-03,  2.6350426e-03,  7.4271322e-04,  2.3276759e-03,\n",
              "       -7.4690939e-03, -9.3583735e-03,  2.3545765e-03,  6.1484552e-03,\n",
              "        7.9856887e-03,  5.7358947e-03, -7.7733636e-04,  8.3061643e-03,\n",
              "       -9.3363142e-03,  3.4061326e-03,  2.6675343e-04,  3.8572443e-03,\n",
              "        7.3857834e-03, -6.7251669e-03,  5.5844807e-03, -9.5222248e-03,\n",
              "       -8.0445886e-04, -8.6887367e-03, -5.0986730e-03,  9.2892265e-03,\n",
              "       -1.8582619e-03,  2.9144264e-03,  9.0712793e-03,  8.9381328e-03,\n",
              "       -8.2084350e-03, -3.0123137e-03,  9.8866057e-03,  5.1044310e-03,\n",
              "       -1.5880871e-03, -8.6920215e-03,  2.9615164e-03, -6.6758976e-03],\n",
              "      dtype=float32)"
            ]
          },
          "metadata": {},
          "execution_count": 53
        }
      ]
    },
    {
      "cell_type": "code",
      "source": [
        "#Image extraction and recognition\n",
        "\n",
        "import cv2\n",
        "\n",
        "image = cv2.imread('/content/wizzy.jpg', 0)\n",
        "\n",
        "hog = cv2.HOGDescriptor()\n",
        "\n",
        "hog_details = hog.compute(image)\n",
        "\n",
        "hog_details"
      ],
      "metadata": {
        "colab": {
          "base_uri": "https://localhost:8080/"
        },
        "id": "ObdZlxW2DM3k",
        "outputId": "ed121eb9-dc1a-4362-baa8-188d2010f869"
      },
      "execution_count": 54,
      "outputs": [
        {
          "output_type": "execute_result",
          "data": {
            "text/plain": [
              "array([0.00408582, 0.0021625 , 0.16214848, ..., 0.09258842, 0.13576984,\n",
              "       0.12663126], dtype=float32)"
            ]
          },
          "metadata": {},
          "execution_count": 54
        }
      ]
    },
    {
      "cell_type": "code",
      "source": [
        "import tensorflow as tf\n",
        "from tensorflow.keras.applications import VGG16\n",
        "\n",
        "image = tf.keras.preprocessing.image.load_img('/content/wizzy.jpg', target_size=(224, 224))\n",
        "image = tf.keras.preprocessing.image.img_to_array(image)\n",
        "image = tf.keras.applications.vgg16.preprocess_input(image)\n",
        "vgg_model = VGG16(weights='imagenet', include_top=False)\n",
        "features = vgg_model.predict(np.expand_dims(image, axis=0))\n",
        "features\n"
      ],
      "metadata": {
        "colab": {
          "base_uri": "https://localhost:8080/"
        },
        "id": "GIxkKf1dIdia",
        "outputId": "abd1c149-64bc-4fec-d87a-39fb350237b1"
      },
      "execution_count": 55,
      "outputs": [
        {
          "output_type": "stream",
          "name": "stdout",
          "text": [
            "1/1 [==============================] - 1s 723ms/step\n"
          ]
        },
        {
          "output_type": "execute_result",
          "data": {
            "text/plain": [
              "array([[[[  0.        ,   0.        ,   0.        , ...,   7.211959  ,\n",
              "            3.793161  ,   0.        ],\n",
              "         [  0.        ,   0.        ,   0.        , ...,   0.        ,\n",
              "            0.        ,   0.        ],\n",
              "         [  0.        ,   0.        ,   0.        , ...,   0.        ,\n",
              "            0.        ,   0.        ],\n",
              "         ...,\n",
              "         [  0.        ,   0.        ,   0.        , ...,   0.        ,\n",
              "            0.        ,   0.        ],\n",
              "         [  0.        ,   0.        ,   0.        , ...,   0.        ,\n",
              "            0.        ,   0.        ],\n",
              "         [  0.        ,   0.        ,   0.        , ...,   0.        ,\n",
              "            0.        ,   0.        ]],\n",
              "\n",
              "        [[  0.        ,   0.        ,   0.        , ...,   0.        ,\n",
              "            0.        ,   0.        ],\n",
              "         [  0.        ,   0.        ,   0.        , ...,   0.        ,\n",
              "            0.        ,   0.        ],\n",
              "         [  0.        ,   0.        ,   0.        , ...,   0.        ,\n",
              "            0.        ,   0.        ],\n",
              "         ...,\n",
              "         [  0.        ,   0.        ,   0.        , ...,   0.        ,\n",
              "            0.        ,   0.        ],\n",
              "         [  0.        ,   0.        ,   0.        , ...,   0.        ,\n",
              "            0.        ,   0.        ],\n",
              "         [  0.        ,   0.        ,   0.        , ...,   0.        ,\n",
              "            0.        ,   0.        ]],\n",
              "\n",
              "        [[  0.        ,   0.        ,   0.        , ...,   0.        ,\n",
              "            0.        ,   0.        ],\n",
              "         [  0.        ,   0.        ,   0.        , ...,   0.        ,\n",
              "            0.        ,   0.        ],\n",
              "         [  0.        ,   0.        ,   0.        , ...,   0.        ,\n",
              "            0.        ,   0.        ],\n",
              "         ...,\n",
              "         [  0.        ,   0.        ,   0.        , ..., 117.66534   ,\n",
              "            0.        ,   0.        ],\n",
              "         [  0.        ,   0.        ,   0.        , ..., 111.62312   ,\n",
              "            0.        ,   0.        ],\n",
              "         [  0.        ,   0.        ,   0.        , ...,  47.236805  ,\n",
              "            0.        ,   0.        ]],\n",
              "\n",
              "        ...,\n",
              "\n",
              "        [[  0.        ,   0.        ,   0.        , ...,   0.        ,\n",
              "            0.        ,   0.        ],\n",
              "         [  0.        ,   0.        ,  28.693102  , ...,   0.        ,\n",
              "            0.        ,   0.67707074],\n",
              "         [  0.        ,   0.        ,   7.7898564 , ...,   0.        ,\n",
              "            0.        ,   9.913465  ],\n",
              "         ...,\n",
              "         [  0.        ,   0.        ,   0.        , ...,   0.        ,\n",
              "            0.        ,   0.        ],\n",
              "         [  0.        ,   0.        ,   0.        , ...,   0.        ,\n",
              "            0.        ,   0.        ],\n",
              "         [  0.        ,   0.        ,   9.481614  , ...,   0.        ,\n",
              "            0.        ,   9.159557  ]],\n",
              "\n",
              "        [[  0.        ,   0.        ,  12.8331175 , ...,   0.        ,\n",
              "            0.        ,  20.602333  ],\n",
              "         [  0.        ,   0.        , 112.68196   , ...,   0.        ,\n",
              "            0.        ,   8.556346  ],\n",
              "         [  0.        ,   0.        ,  41.84102   , ...,   0.        ,\n",
              "            0.        ,   0.        ],\n",
              "         ...,\n",
              "         [  0.        ,   0.        ,   0.        , ...,   0.        ,\n",
              "            0.        ,   0.        ],\n",
              "         [  0.        ,  23.123558  ,  14.565972  , ...,   0.        ,\n",
              "            0.        ,   0.        ],\n",
              "         [  0.        ,   8.526242  ,  43.782974  , ...,   0.        ,\n",
              "            0.        ,   0.        ]],\n",
              "\n",
              "        [[  0.        ,   0.        ,  68.319374  , ...,   0.        ,\n",
              "            0.        ,   0.        ],\n",
              "         [  0.        ,   0.        , 147.67361   , ...,   0.        ,\n",
              "            0.        ,   0.        ],\n",
              "         [  6.090184  ,   0.        ,  72.316864  , ...,   0.        ,\n",
              "            0.        ,   0.        ],\n",
              "         ...,\n",
              "         [ 76.51712   ,   0.        ,   0.        , ...,   0.        ,\n",
              "            0.        ,   0.        ],\n",
              "         [ 63.475605  ,   6.156509  ,   0.        , ...,   0.        ,\n",
              "            0.        ,   0.        ],\n",
              "         [  0.        ,   0.        ,   3.107725  , ...,   0.        ,\n",
              "           12.109032  ,   0.        ]]]], dtype=float32)"
            ]
          },
          "metadata": {},
          "execution_count": 55
        }
      ]
    }
  ],
  "metadata": {
    "colab": {
      "provenance": [],
      "include_colab_link": true
    },
    "kernelspec": {
      "display_name": "Python 3",
      "name": "python3"
    },
    "language_info": {
      "name": "python"
    }
  },
  "nbformat": 4,
  "nbformat_minor": 0
}